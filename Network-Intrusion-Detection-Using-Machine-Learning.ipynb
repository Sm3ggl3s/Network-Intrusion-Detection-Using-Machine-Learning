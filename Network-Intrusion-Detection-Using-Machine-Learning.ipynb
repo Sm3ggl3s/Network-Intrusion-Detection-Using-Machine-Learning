{
 "cells": [
  {
   "cell_type": "markdown",
   "id": "8e7f741d",
   "metadata": {},
   "source": [
    "# Network Intrusion Detection Using Machine Learning"
   ]
  },
  {
   "cell_type": "code",
   "execution_count": 1,
   "id": "f0824cff",
   "metadata": {},
   "outputs": [
    {
     "data": {
      "text/plain": [
       "True"
      ]
     },
     "execution_count": 1,
     "metadata": {},
     "output_type": "execute_result"
    }
   ],
   "source": [
    "# Imports \n",
    "import pandas as pd\n",
    "import os\n",
    "from dotenv import load_dotenv\n",
    "\n",
    "load_dotenv()\n"
   ]
  },
  {
   "cell_type": "markdown",
   "id": "0c2d5c87",
   "metadata": {},
   "source": [
    "#### Setting Data Paths\n"
   ]
  },
  {
   "cell_type": "code",
   "execution_count": 2,
   "id": "d02c5302",
   "metadata": {},
   "outputs": [
    {
     "name": "stdout",
     "output_type": "stream",
     "text": [
      "Data Path: /Users/jamesanderson/Documents/UNCC/Fall-2025/ITCS-6166_Computer_Comm_&_Networks/Project/Project_Code/DATA\n"
     ]
    }
   ],
   "source": [
    "base_path = os.getenv(\"DATA_PATH\")\n",
    "\n",
    "attack_file = \"\"\n",
    "benign_file = "
   ]
  }
 ],
 "metadata": {
  "kernelspec": {
   "display_name": "Python 3 (ipykernel)",
   "language": "python",
   "name": "python3"
  },
  "language_info": {
   "codemirror_mode": {
    "name": "ipython",
    "version": 3
   },
   "file_extension": ".py",
   "mimetype": "text/x-python",
   "name": "python",
   "nbconvert_exporter": "python",
   "pygments_lexer": "ipython3",
   "version": "3.13.9"
  }
 },
 "nbformat": 4,
 "nbformat_minor": 5
}
